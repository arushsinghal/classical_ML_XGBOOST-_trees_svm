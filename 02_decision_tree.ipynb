{
 "cells": [
  {
   "cell_type": "markdown",
   "metadata": {},
   "source": [
    "# Day 2: Decision Trees"
   ]
  },
  {
   "cell_type": "code",
   "execution_count": null,
   "metadata": {},
   "outputs": [],
   "source": [
    "from sklearn.tree import DecisionTreeClassifier, plot_tree\n",
    "import matplotlib.pyplot as plt\n",
    "from sklearn.datasets import load_iris\n",
    "from sklearn.model_selection import train_test_split\n",
    "from sklearn.metrics import accuracy_score\n\n",
    "iris = load_iris(as_frame=True)\n",
    "X, y = iris.data, iris.target\n\n",
    "X_train, X_test, y_train, y_test = train_test_split(X, y, test_size=0.2, random_state=42)\n\n",
    "model = DecisionTreeClassifier(max_depth=3)\n",
    "model.fit(X_train, y_train)\n",
    "y_pred = model.predict(X_test)\n",
    "print("Accuracy:", accuracy_score(y_test, y_pred))\n\n",
    "plt.figure(figsize=(12,8))\n",
    "plot_tree(model, feature_names=X.columns, class_names=iris.target_names, filled=True)\n",
    "plt.show()"
   ]
  }
 ]
}