{
 "cells": [
  {
   "cell_type": "markdown",
   "metadata": {},
   "source": [
    "# Day 5: Model Comparison - Tree vs XGBoost vs SVM"
   ]
  },
  {
   "cell_type": "code",
   "execution_count": null,
   "metadata": {},
   "outputs": [],
   "source": [
    "# This notebook will compare all 3 models in accuracy and visual plots.\n",
    "# You can copy code from earlier notebooks and add metrics like confusion matrix, ROC curve, etc."
   ]
  }
 ]
}