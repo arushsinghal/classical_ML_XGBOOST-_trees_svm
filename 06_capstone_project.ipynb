{
 "cells": [
  {
   "cell_type": "markdown",
   "metadata": {},
   "source": [
    "# Day 6-7: Capstone Project - Apply all 3 models on a new dataset"
   ]
  },
  {
   "cell_type": "code",
   "execution_count": null,
   "metadata": {},
   "outputs": [],
   "source": [
    "# Use a new dataset of your choice (e.g., heart.csv, titanic.csv).\n",
    "# Follow the steps: Load > EDA > Preprocess > Train 3 models > Evaluate > Compare > Conclude"
   ]
  }
 ]
}